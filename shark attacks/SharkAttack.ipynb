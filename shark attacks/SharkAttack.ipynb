{
 "cells": [
  {
   "cell_type": "markdown",
   "metadata": {},
   "source": [
    "### Shark Attack"
   ]
  },
  {
   "cell_type": "markdown",
   "metadata": {},
   "source": [
    "#### The following dataset tell about the attack of shark on North and South Carolina area. There are many features which are \n",
    "#### provided in dataset like turtle count in NC and SC .Along with it the weather condition like precipitation, humidity , station #### Pressure are also provided. The target variable are shark attack Yes or NO . I have used SVM and Decision tree classifer for #### checking the prediction. For EDA turtle count in NC and SC is consider. Similarly modelling is perform on Turtle count in NC #### and SC area    "
   ]
  },
  {
   "cell_type": "code",
   "execution_count": 1,
   "metadata": {
    "collapsed": true
   },
   "outputs": [],
   "source": [
    "import pandas as pd\n",
    "import matplotlib.pyplot as plt\n",
    "import numpy as np\n"
   ]
  },
  {
   "cell_type": "markdown",
   "metadata": {},
   "source": [
    "##### reading CSV from local file "
   ]
  },
  {
   "cell_type": "code",
   "execution_count": 16,
   "metadata": {},
   "outputs": [
    {
     "name": "stdout",
     "output_type": "stream",
     "text": [
      "<class 'pandas.core.frame.DataFrame'>\n",
      "RangeIndex: 186 entries, 0 to 185\n",
      "Data columns (total 73 columns):\n",
      "Unnamed: 0                         186 non-null int64\n",
      "X.2                                186 non-null int64\n",
      "X.1                                186 non-null int64\n",
      "X                                  186 non-null int64\n",
      "Id                                 186 non-null int64\n",
      "Date                               186 non-null object\n",
      "ID                                 186 non-null int64\n",
      "TurtleExactCountSC                 151 non-null float64\n",
      "turtleexactdiscretizeSC            151 non-null object\n",
      "TurtleExactCountNC                 149 non-null float64\n",
      "TurtleExactCombined                186 non-null int64\n",
      "TurtleexactdiscretizeNC            149 non-null object\n",
      "TurtleAttackActivity               72 non-null float64\n",
      "TurtleAttackActivityDiscretized    72 non-null object\n",
      "Area                               72 non-null object\n",
      "Location                           72 non-null object\n",
      "Time                               60 non-null object\n",
      "Species                            52 non-null object\n",
      "Attack                             186 non-null object\n",
      "Timeofattack                       72 non-null object\n",
      "Beach                              72 non-null object\n",
      "County                             72 non-null object\n",
      "MoonPhaseExtended                  186 non-null object\n",
      "MoonPhase                          186 non-null object\n",
      "Precipitation_Value                182 non-null object\n",
      "StationPressure                    182 non-null float64\n",
      "WindSpeed                          182 non-null float64\n",
      "Salinity                           182 non-null float64\n",
      "Turbidity                          182 non-null float64\n",
      "Temperature                        182 non-null float64\n",
      "DissovedO2                         182 non-null float64\n",
      "PrecipitationValueMod              186 non-null float64\n",
      "StationPressureMod                 186 non-null float64\n",
      "WindSpeedMod                       186 non-null float64\n",
      "SalinityMod                        186 non-null float64\n",
      "TurbidityMod                       186 non-null float64\n",
      "TemperatureMod                     186 non-null float64\n",
      "DissovedO2Mod                      186 non-null float64\n",
      "DissolvedO2discretize              186 non-null object\n",
      "salinitydiscretize                 186 non-null object\n",
      "turbiditydiscretize                186 non-null object\n",
      "temperaturediscretize              186 non-null object\n",
      "precipitationdiscretize            186 non-null object\n",
      "pressurediscretize                 186 non-null object\n",
      "windspeeddiscretize                186 non-null object\n",
      "prepmovingaverage                  186 non-null float64\n",
      "precipitationmvadiscretize         186 non-null object\n",
      "CrabLandings                       186 non-null int64\n",
      "CrabLandingsnormalised             186 non-null float64\n",
      "CrabLandingsDisc                   186 non-null object\n",
      "Degree                             186 non-null float64\n",
      "Direction                          186 non-null object\n",
      "MoonPhase3daysextended             186 non-null object\n",
      "MoonPhase4daysextended             186 non-null object\n",
      "zscorewatertemp                    186 non-null float64\n",
      "changetemp                         186 non-null object\n",
      "Precipitation_Normalised           186 non-null float64\n",
      "StationPressure_Normalised         186 non-null float64\n",
      "WindSpeed_Normalised               186 non-null float64\n",
      "Salinity_Normalised                186 non-null float64\n",
      "Turbidity_Normalised               186 non-null float64\n",
      "Dissolved02_Normalised             186 non-null float64\n",
      "Precipitation_minmax               186 non-null float64\n",
      "StationPressure_minmax             186 non-null float64\n",
      "WindSpeed_minmax                   186 non-null float64\n",
      "Salinity_minmax                    186 non-null float64\n",
      "Turbidity_minmax                   186 non-null float64\n",
      "Dissolved02_minmax                 186 non-null float64\n",
      "WaterTemp_minmax                   186 non-null float64\n",
      "Turtle_minmax                      186 non-null float64\n",
      "Crablandings_minmax                186 non-null float64\n",
      "turbidity_kmeans_binning           186 non-null object\n",
      "turbidty_domain                    186 non-null object\n",
      "dtypes: float64(35), int64(8), object(30)\n",
      "memory usage: 106.2+ KB\n",
      "None\n"
     ]
    }
   ],
   "source": [
    "df= pd.read_csv(\"F:\\Summer 2\\SAproject\\WEKAFinalInputFile.csv\",low_memory=False)\n",
    "print(df.info())\n"
   ]
  },
  {
   "cell_type": "markdown",
   "metadata": {},
   "source": [
    "##### displaying the general attributes of data "
   ]
  },
  {
   "cell_type": "code",
   "execution_count": 17,
   "metadata": {},
   "outputs": [
    {
     "name": "stdout",
     "output_type": "stream",
     "text": [
      "<class 'pandas.core.frame.DataFrame'>\n",
      "RangeIndex: 186 entries, 0 to 185\n",
      "Data columns (total 73 columns):\n",
      "Unnamed: 0                         186 non-null int64\n",
      "X.2                                186 non-null int64\n",
      "X.1                                186 non-null int64\n",
      "X                                  186 non-null int64\n",
      "Id                                 186 non-null int64\n",
      "Date                               186 non-null object\n",
      "ID                                 186 non-null int64\n",
      "TurtleExactCountSC                 151 non-null float64\n",
      "turtleexactdiscretizeSC            151 non-null object\n",
      "TurtleExactCountNC                 149 non-null float64\n",
      "TurtleExactCombined                186 non-null int64\n",
      "TurtleexactdiscretizeNC            149 non-null object\n",
      "TurtleAttackActivity               72 non-null float64\n",
      "TurtleAttackActivityDiscretized    72 non-null object\n",
      "Area                               72 non-null object\n",
      "Location                           72 non-null object\n",
      "Time                               60 non-null object\n",
      "Species                            52 non-null object\n",
      "Attack                             186 non-null object\n",
      "Timeofattack                       72 non-null object\n",
      "Beach                              72 non-null object\n",
      "County                             72 non-null object\n",
      "MoonPhaseExtended                  186 non-null object\n",
      "MoonPhase                          186 non-null object\n",
      "Precipitation_Value                182 non-null object\n",
      "StationPressure                    182 non-null float64\n",
      "WindSpeed                          182 non-null float64\n",
      "Salinity                           182 non-null float64\n",
      "Turbidity                          182 non-null float64\n",
      "Temperature                        182 non-null float64\n",
      "DissovedO2                         182 non-null float64\n",
      "PrecipitationValueMod              186 non-null float64\n",
      "StationPressureMod                 186 non-null float64\n",
      "WindSpeedMod                       186 non-null float64\n",
      "SalinityMod                        186 non-null float64\n",
      "TurbidityMod                       186 non-null float64\n",
      "TemperatureMod                     186 non-null float64\n",
      "DissovedO2Mod                      186 non-null float64\n",
      "DissolvedO2discretize              186 non-null object\n",
      "salinitydiscretize                 186 non-null object\n",
      "turbiditydiscretize                186 non-null object\n",
      "temperaturediscretize              186 non-null object\n",
      "precipitationdiscretize            186 non-null object\n",
      "pressurediscretize                 186 non-null object\n",
      "windspeeddiscretize                186 non-null object\n",
      "prepmovingaverage                  186 non-null float64\n",
      "precipitationmvadiscretize         186 non-null object\n",
      "CrabLandings                       186 non-null int64\n",
      "CrabLandingsnormalised             186 non-null float64\n",
      "CrabLandingsDisc                   186 non-null object\n",
      "Degree                             186 non-null float64\n",
      "Direction                          186 non-null object\n",
      "MoonPhase3daysextended             186 non-null object\n",
      "MoonPhase4daysextended             186 non-null object\n",
      "zscorewatertemp                    186 non-null float64\n",
      "changetemp                         186 non-null object\n",
      "Precipitation_Normalised           186 non-null float64\n",
      "StationPressure_Normalised         186 non-null float64\n",
      "WindSpeed_Normalised               186 non-null float64\n",
      "Salinity_Normalised                186 non-null float64\n",
      "Turbidity_Normalised               186 non-null float64\n",
      "Dissolved02_Normalised             186 non-null float64\n",
      "Precipitation_minmax               186 non-null float64\n",
      "StationPressure_minmax             186 non-null float64\n",
      "WindSpeed_minmax                   186 non-null float64\n",
      "Salinity_minmax                    186 non-null float64\n",
      "Turbidity_minmax                   186 non-null float64\n",
      "Dissolved02_minmax                 186 non-null float64\n",
      "WaterTemp_minmax                   186 non-null float64\n",
      "Turtle_minmax                      186 non-null float64\n",
      "Crablandings_minmax                186 non-null float64\n",
      "turbidity_kmeans_binning           186 non-null object\n",
      "turbidty_domain                    186 non-null object\n",
      "dtypes: float64(35), int64(8), object(30)\n",
      "memory usage: 106.2+ KB\n",
      "None\n",
      "Index(['Unnamed: 0', 'X.2', 'X.1', 'X', 'Id', 'Date', 'ID',\n",
      "       'TurtleExactCountSC', 'turtleexactdiscretizeSC', 'TurtleExactCountNC',\n",
      "       'TurtleExactCombined', 'TurtleexactdiscretizeNC',\n",
      "       'TurtleAttackActivity', 'TurtleAttackActivityDiscretized', 'Area',\n",
      "       'Location', 'Time', 'Species', 'Attack', 'Timeofattack', 'Beach',\n",
      "       'County', 'MoonPhaseExtended', 'MoonPhase', 'Precipitation_Value',\n",
      "       'StationPressure', 'WindSpeed', 'Salinity', 'Turbidity', 'Temperature',\n",
      "       'DissovedO2', 'PrecipitationValueMod', 'StationPressureMod',\n",
      "       'WindSpeedMod', 'SalinityMod', 'TurbidityMod', 'TemperatureMod',\n",
      "       'DissovedO2Mod', 'DissolvedO2discretize', 'salinitydiscretize',\n",
      "       'turbiditydiscretize', 'temperaturediscretize',\n",
      "       'precipitationdiscretize', 'pressurediscretize', 'windspeeddiscretize',\n",
      "       'prepmovingaverage', 'precipitationmvadiscretize', 'CrabLandings',\n",
      "       'CrabLandingsnormalised', 'CrabLandingsDisc', 'Degree', 'Direction',\n",
      "       'MoonPhase3daysextended', 'MoonPhase4daysextended', 'zscorewatertemp',\n",
      "       'changetemp', 'Precipitation_Normalised', 'StationPressure_Normalised',\n",
      "       'WindSpeed_Normalised', 'Salinity_Normalised', 'Turbidity_Normalised',\n",
      "       'Dissolved02_Normalised', 'Precipitation_minmax',\n",
      "       'StationPressure_minmax', 'WindSpeed_minmax', 'Salinity_minmax',\n",
      "       'Turbidity_minmax', 'Dissolved02_minmax', 'WaterTemp_minmax',\n",
      "       'Turtle_minmax', 'Crablandings_minmax', 'turbidity_kmeans_binning',\n",
      "       'turbidty_domain'],\n",
      "      dtype='object')\n",
      "   Unnamed: 0  X.2  X.1  X  Id       Date  ID  TurtleExactCountSC  \\\n",
      "0           1    1    1  1   4   5/4/2009  25                 0.0   \n",
      "1           2    2    2  2   5   5/5/2009  33                 0.0   \n",
      "2           3    3    3  3   7   5/7/2009  49                 1.0   \n",
      "3           4    4    4  4   8   5/8/2009  57                 0.0   \n",
      "4           5    5    5  5  11  5/11/2009  81                 2.0   \n",
      "\n",
      "  turtleexactdiscretizeSC  TurtleExactCountNC       ...        \\\n",
      "0                     Low                 0.0       ...         \n",
      "1                     Low                 0.0       ...         \n",
      "2                     Low                 0.0       ...         \n",
      "3                     Low                 0.0       ...         \n",
      "4                     Low                 0.0       ...         \n",
      "\n",
      "   StationPressure_minmax WindSpeed_minmax  Salinity_minmax Turbidity_minmax  \\\n",
      "0                0.578947         0.333333         0.636021         0.032566   \n",
      "1                0.649123         0.202614         0.552312         0.037936   \n",
      "2                0.508772         0.405229         0.496314         0.027615   \n",
      "3                0.508772         0.267974         0.579198         0.020119   \n",
      "4                0.614035         0.385621         0.597837         0.066004   \n",
      "\n",
      "  Dissolved02_minmax WaterTemp_minmax Turtle_minmax Crablandings_minmax  \\\n",
      "0           0.741354         0.576733      0.000000            0.933566   \n",
      "1           0.675088         0.477558      0.000000            0.114510   \n",
      "2           0.703665         0.498185      0.000000            0.925699   \n",
      "3           0.788776         0.575743      0.000000            0.296329   \n",
      "4           0.822323         0.627393      0.004785            0.994755   \n",
      "\n",
      "  turbidity_kmeans_binning turbidty_domain  \n",
      "0                      Low             Low  \n",
      "1                      Low          Medium  \n",
      "2                      Low             Low  \n",
      "3                      Low             Low  \n",
      "4                      Low          Medium  \n",
      "\n",
      "[5 rows x 73 columns]\n"
     ]
    }
   ],
   "source": [
    "print(df.info())\n",
    "print(df.columns)\n"
   ]
  },
  {
   "cell_type": "code",
   "execution_count": 19,
   "metadata": {},
   "outputs": [
    {
     "name": "stdout",
     "output_type": "stream",
     "text": [
      "   Unnamed: 0  X.2  X.1  X  Id       Date  ID  TurtleExactCountSC  \\\n",
      "0           1    1    1  1   4 2009-05-04  25                 0.0   \n",
      "1           2    2    2  2   5 2009-05-05  33                 0.0   \n",
      "2           3    3    3  3   7 2009-05-07  49                 1.0   \n",
      "3           4    4    4  4   8 2009-05-08  57                 0.0   \n",
      "4           5    5    5  5  11 2009-05-11  81                 2.0   \n",
      "\n",
      "  turtleexactdiscretizeSC  TurtleExactCountNC       ...        \\\n",
      "0                     Low                 0.0       ...         \n",
      "1                     Low                 0.0       ...         \n",
      "2                     Low                 0.0       ...         \n",
      "3                     Low                 0.0       ...         \n",
      "4                     Low                 0.0       ...         \n",
      "\n",
      "   StationPressure_minmax WindSpeed_minmax  Salinity_minmax Turbidity_minmax  \\\n",
      "0                0.578947         0.333333         0.636021         0.032566   \n",
      "1                0.649123         0.202614         0.552312         0.037936   \n",
      "2                0.508772         0.405229         0.496314         0.027615   \n",
      "3                0.508772         0.267974         0.579198         0.020119   \n",
      "4                0.614035         0.385621         0.597837         0.066004   \n",
      "\n",
      "  Dissolved02_minmax WaterTemp_minmax Turtle_minmax Crablandings_minmax  \\\n",
      "0           0.741354         0.576733      0.000000            0.933566   \n",
      "1           0.675088         0.477558      0.000000            0.114510   \n",
      "2           0.703665         0.498185      0.000000            0.925699   \n",
      "3           0.788776         0.575743      0.000000            0.296329   \n",
      "4           0.822323         0.627393      0.004785            0.994755   \n",
      "\n",
      "  turbidity_kmeans_binning turbidty_domain  \n",
      "0                      Low             Low  \n",
      "1                      Low          Medium  \n",
      "2                      Low             Low  \n",
      "3                      Low             Low  \n",
      "4                      Low          Medium  \n",
      "\n",
      "[5 rows x 73 columns]\n"
     ]
    }
   ],
   "source": [
    "##converting the date to date time object \n",
    "df['Date'] = pd.to_datetime(df['Date'])\n",
    "print(df.head())"
   ]
  },
  {
   "cell_type": "code",
   "execution_count": 20,
   "metadata": {},
   "outputs": [
    {
     "name": "stdout",
     "output_type": "stream",
     "text": [
      "<bound method NDFrame.describe of      Unnamed: 0  X.2  X.1    X    Id       Date   ID  TurtleExactCountSC  \\\n",
      "0             1    1    1    1     4 2009-05-04   25                 0.0   \n",
      "1             2    2    2    2     5 2009-05-05   33                 0.0   \n",
      "2             3    3    3    3     7 2009-05-07   49                 1.0   \n",
      "3             4    4    4    4     8 2009-05-08   57                 0.0   \n",
      "4             5    5    5    5    11 2009-05-11   81                 2.0   \n",
      "5             6    6    6    6    14 2009-05-14  105                15.0   \n",
      "6             7    7    7    7    16 2009-05-16  121                 9.0   \n",
      "7             8    8    8    8    18 2009-05-18  137                 7.0   \n",
      "8             9    9    9    9    27 2009-05-27  209                23.0   \n",
      "9            10   10   10   10    29 2009-05-29  225                48.0   \n",
      "10           11   11   11   11    34 2009-06-03  265                48.0   \n",
      "11           12   12   12   12    35 2009-06-04  273                55.0   \n",
      "12           13   13   13   13    38 2009-06-07  297                45.0   \n",
      "13           14   14   14   14    42 2009-06-11  329                54.0   \n",
      "14           15   15   15   15    46 2009-06-15  367                62.0   \n",
      "15           16   16   16   16    47 2009-06-16  375                66.0   \n",
      "16           17   17   17   17    48 2009-06-17  383                66.0   \n",
      "17           18   18   18   18    56 2009-06-25  451                55.0   \n",
      "18           19   19   19   19    59 2009-06-28  476                78.0   \n",
      "19           20   20   20   20    61 2009-06-30  493                61.0   \n",
      "20           21   21   21   21    62 2009-07-01  501                60.0   \n",
      "21           22   22   22   22    65 2009-07-04  526                33.0   \n",
      "22           23   23   23   23    67 2009-07-06  542                63.0   \n",
      "23           24   24   24   24    73 2009-07-12  590                38.0   \n",
      "24           25   25   25   25    78 2009-07-17  631                23.0   \n",
      "25           26   26   26   26    83 2009-07-22  668                 NaN   \n",
      "26           27   27   27   27    87 2009-07-26  696                36.0   \n",
      "27           28   28   28   28    94 2009-08-02  745                 8.0   \n",
      "28           29   29   29   29    98 2009-08-06  773                 3.0   \n",
      "29           30   30   30   30   106 2009-08-14  829                 1.0   \n",
      "..          ...  ...  ...  ...   ...        ...  ...                 ...   \n",
      "156         157  157  157  157   970 2015-06-14  365                 NaN   \n",
      "157         158  158  158  158   979 2015-06-23  440               195.0   \n",
      "158         159  159  159  159   980 2015-06-24  449                 NaN   \n",
      "159         160  160  160  160   981 2015-06-25  458                 NaN   \n",
      "160         161  161  161  161   982 2015-06-26  466               159.0   \n",
      "161         162  162  162  162   983 2015-06-27  474                 NaN   \n",
      "162         163  163  163  163   986 2015-06-30  499               135.0   \n",
      "163         164  164  164  164   987 2015-07-01  507                 NaN   \n",
      "164         165  165  165  165   990 2015-07-04  532                 NaN   \n",
      "165         166  166  166  166  1012 2015-07-26  702                24.0   \n",
      "166         167  167  167  167  1037 2015-08-20  878                 1.0   \n",
      "167         168  168  168  168  1051 2015-09-03  978                 0.0   \n",
      "168         169  169  169  169  1116 2016-06-07  304               122.0   \n",
      "169         170  170  170  170  1120 2016-06-11  337                 NaN   \n",
      "170         171  171  171  171  1121 2016-06-11  336                 NaN   \n",
      "171         172  172  172  172  1124 2016-06-13  354                 NaN   \n",
      "172         173  173  173  173  1125 2016-06-13  353               135.0   \n",
      "173         174  174  174  174  1133 2016-06-20  416                 NaN   \n",
      "174         175  175  175  175  1134 2016-06-20  414                 NaN   \n",
      "175         176  176  176  176  1135 2016-06-21  424               164.0   \n",
      "176         177  177  177  177  1136 2016-06-21  425               164.0   \n",
      "177         178  178  178  178  1138 2016-06-23  441               125.0   \n",
      "178         179  179  179  179  1141 2016-06-25  459                 NaN   \n",
      "179         180  180  180  180  1143 2016-06-27  475               209.0   \n",
      "180         181  181  181  181  1145 2016-06-29  491               139.0   \n",
      "181         182  182  182  182  1149 2016-07-01  509                 NaN   \n",
      "182         183  183  183  183  1163 2016-07-15  622               105.0   \n",
      "183         184  184  184  184  1164 2016-07-15  621               105.0   \n",
      "184         185  185  185  185  1165 2016-07-16  630                90.0   \n",
      "185         186  186  186  186  1167 2016-07-18  646                71.0   \n",
      "\n",
      "    turtleexactdiscretizeSC  TurtleExactCountNC       ...        \\\n",
      "0                       Low                 0.0       ...         \n",
      "1                       Low                 0.0       ...         \n",
      "2                       Low                 0.0       ...         \n",
      "3                       Low                 0.0       ...         \n",
      "4                       Low                 0.0       ...         \n",
      "5                       Low                 1.0       ...         \n",
      "6                       Low                 3.0       ...         \n",
      "7                       Low                 0.0       ...         \n",
      "8                       Low                 3.0       ...         \n",
      "9                       Low                14.0       ...         \n",
      "10                      Low                 7.0       ...         \n",
      "11                      Low                16.0       ...         \n",
      "12                      Low                 9.0       ...         \n",
      "13                      Low                16.0       ...         \n",
      "14                      Low                12.0       ...         \n",
      "15                      Low                18.0       ...         \n",
      "16                      Low                21.0       ...         \n",
      "17                      Low                36.0       ...         \n",
      "18                   Medium                18.0       ...         \n",
      "19                      Low                26.0       ...         \n",
      "20                      Low                28.0       ...         \n",
      "21                      Low                16.0       ...         \n",
      "22                      Low                 7.0       ...         \n",
      "23                      Low                15.0       ...         \n",
      "24                      Low                15.0       ...         \n",
      "25                      NaN                22.0       ...         \n",
      "26                      Low                24.0       ...         \n",
      "27                      Low                10.0       ...         \n",
      "28                      Low                 2.0       ...         \n",
      "29                      Low                 0.0       ...         \n",
      "..                      ...                 ...       ...         \n",
      "156                     NaN                51.0       ...         \n",
      "157                    High                 NaN       ...         \n",
      "158                     NaN                54.0       ...         \n",
      "159                     NaN                48.0       ...         \n",
      "160                    High                 NaN       ...         \n",
      "161                     NaN                39.0       ...         \n",
      "162                  Medium                 NaN       ...         \n",
      "163                     NaN                37.0       ...         \n",
      "164                     NaN                44.0       ...         \n",
      "165                     Low                 NaN       ...         \n",
      "166                     Low                 NaN       ...         \n",
      "167                     Low                 NaN       ...         \n",
      "168                  Medium                 NaN       ...         \n",
      "169                     NaN                34.0       ...         \n",
      "170                     NaN                34.0       ...         \n",
      "171                     NaN                34.0       ...         \n",
      "172                  Medium                 NaN       ...         \n",
      "173                     NaN                54.0       ...         \n",
      "174                     NaN                54.0       ...         \n",
      "175                    High                 NaN       ...         \n",
      "176                    High                 NaN       ...         \n",
      "177                  Medium                 NaN       ...         \n",
      "178                     NaN                44.0       ...         \n",
      "179               Very High                 NaN       ...         \n",
      "180                    High                 NaN       ...         \n",
      "181                     NaN                51.0       ...         \n",
      "182                  Medium                 NaN       ...         \n",
      "183                  Medium                 NaN       ...         \n",
      "184                  Medium                 NaN       ...         \n",
      "185                  Medium                 NaN       ...         \n",
      "\n",
      "     StationPressure_minmax WindSpeed_minmax  Salinity_minmax  \\\n",
      "0                  0.578947         0.333333         0.636021   \n",
      "1                  0.649123         0.202614         0.552312   \n",
      "2                  0.508772         0.405229         0.496314   \n",
      "3                  0.508772         0.267974         0.579198   \n",
      "4                  0.614035         0.385621         0.597837   \n",
      "5                  0.859649         0.228758         0.593136   \n",
      "6                  0.771930         0.196078         0.595940   \n",
      "7                  0.789474         0.882353         0.431409   \n",
      "8                  0.385965         0.098039         0.637258   \n",
      "9                  0.280702         0.346405         0.638330   \n",
      "10                 0.649123         0.143791         0.586456   \n",
      "11                 0.210526         0.372549         0.577466   \n",
      "12                 0.526316         0.196078         0.483449   \n",
      "13                 0.368421         0.189542         0.598826   \n",
      "14                 0.491228         0.000000         0.487572   \n",
      "15                 0.508772         0.183007         0.477676   \n",
      "16                 0.614035         0.189542         0.471243   \n",
      "17                 0.350877         0.209150         0.601218   \n",
      "18                 0.140351         0.346405         0.690452   \n",
      "19                 0.000000         0.411765         0.684762   \n",
      "20                 0.175439         0.411765         0.701751   \n",
      "21                 0.596491         0.300654         0.782326   \n",
      "22                 0.280702         0.385621         0.815232   \n",
      "23                 0.789474         0.209150         0.788676   \n",
      "24                 0.421053         0.542484         0.810750   \n",
      "25                 0.807018         0.359477         0.863813   \n",
      "26                 0.614035         0.339869         0.930857   \n",
      "27                 0.649123         0.359477         0.950898   \n",
      "28                 0.543860         0.287582         0.848880   \n",
      "29                 0.736842         0.215686         0.767151   \n",
      "..                      ...              ...              ...   \n",
      "156                0.684211         0.143791         0.610620   \n",
      "157                0.614035         0.490196         0.488314   \n",
      "158                0.684211         0.549020         0.569879   \n",
      "159                0.736842         0.594771         0.546374   \n",
      "160                0.526316         0.496732         0.582250   \n",
      "161                0.473684         1.000000         0.617135   \n",
      "162                0.684211         0.261438         0.502829   \n",
      "163                0.526316         0.803922         0.591404   \n",
      "164                0.578947         0.856209         0.385967   \n",
      "165                0.578947         0.352941         0.867601   \n",
      "166                0.473684         0.209150         0.831149   \n",
      "167                0.684211         0.490196         0.830407   \n",
      "168                0.017544         0.411765         0.596270   \n",
      "169                0.789474         0.699346         0.513798   \n",
      "170                0.789474         0.699346         0.513798   \n",
      "171                0.421053         0.385621         0.462913   \n",
      "172                0.421053         0.431373         0.462913   \n",
      "173                1.000000         0.450980         0.586786   \n",
      "174                1.000000         0.450980         0.586786   \n",
      "175                0.754386         0.960784         0.635361   \n",
      "176                0.754386         0.960784         0.635361   \n",
      "177                0.631579         0.849673         0.697215   \n",
      "178                0.736842         0.359477         0.754945   \n",
      "179                0.701754         0.359477         0.689710   \n",
      "180                0.491228         0.248366         0.722699   \n",
      "181                0.631579         0.686275         0.731028   \n",
      "182                0.701754         0.450980         0.799562   \n",
      "183                0.701754         0.450980         0.799562   \n",
      "184                0.701754         0.450980         0.799562   \n",
      "185                0.701754         0.450980         0.799562   \n",
      "\n",
      "    Turbidity_minmax Dissolved02_minmax WaterTemp_minmax Turtle_minmax  \\\n",
      "0           0.032566           0.741354         0.576733      0.000000   \n",
      "1           0.037936           0.675088         0.477558      0.000000   \n",
      "2           0.027615           0.703665         0.498185      0.000000   \n",
      "3           0.020119           0.788776         0.575743      0.000000   \n",
      "4           0.066004           0.822323         0.627393      0.004785   \n",
      "5           0.010774           0.695589         0.304455      0.038278   \n",
      "6           0.011960           0.777594         0.580858      0.028708   \n",
      "7           0.050384           0.693104         0.000000      0.014354   \n",
      "8           0.009589           0.509215         0.590594      0.062201   \n",
      "9           0.020567           0.375854         0.650990      0.148325   \n",
      "10          0.065272           0.042659         0.801815      0.129187   \n",
      "11          0.004603           0.000000         0.745875      0.167464   \n",
      "12          0.054777           0.037482         0.696700      0.129187   \n",
      "13          0.034170           0.698902         0.819142      0.167464   \n",
      "14          0.013180           0.745703         0.842904      0.177033   \n",
      "15          0.014052           0.676538         0.752970      0.200957   \n",
      "16          0.013529           0.741147         0.679868      0.205742   \n",
      "17          0.025000           0.738869         0.809736      0.220096   \n",
      "18          0.016527           0.572789         0.885314      0.229665   \n",
      "19          0.018305           0.616277         0.933828      0.210526   \n",
      "20          0.020223           0.627045         0.887624      0.210526   \n",
      "21          0.022420           0.633672         0.851320      0.119617   \n",
      "22          0.025035           0.650445         0.739604      0.167464   \n",
      "23          0.017190           0.643197         0.717657      0.129187   \n",
      "24          0.024802           0.603508         0.855124      0.090909   \n",
      "25          0.014644           0.647108         0.870512      0.105263   \n",
      "26          0.038529           0.628287         0.846040      0.143541   \n",
      "27          0.032008           0.600331         0.847360      0.043062   \n",
      "28          0.026953           0.650859         0.886469      0.014354   \n",
      "29          0.014540           0.501967         0.734158      0.004785   \n",
      "..               ...                ...              ...           ...   \n",
      "156         0.349131           0.022158         0.905281      0.244019   \n",
      "157         0.137936           0.566991         0.897855      0.933014   \n",
      "158         0.517949           0.587285         0.885479      0.258373   \n",
      "159         0.167573           0.629530         0.879538      0.229665   \n",
      "160         0.094142           0.632222         0.894059      0.760766   \n",
      "161         0.101499           0.582315         0.852970      0.186603   \n",
      "162         0.079973           0.700145         0.839934      0.645933   \n",
      "163         0.064400           0.690205         0.782178      0.177033   \n",
      "164         0.059414           0.717954         0.739769      0.210526   \n",
      "165         0.015865           0.604887         0.824257      0.114833   \n",
      "166         0.023919           0.600124         0.828383      0.004785   \n",
      "167         0.015272           0.572168         0.723267      0.000000   \n",
      "168         0.014854           0.675916         0.701320      0.583732   \n",
      "169         0.120223           0.736591         0.732178      0.162679   \n",
      "170         0.120223           0.736591         0.732178      0.162679   \n",
      "171         0.041248           0.765169         0.738449      0.162679   \n",
      "172         0.041248           0.765169         0.738449      0.645933   \n",
      "173         0.034623           0.793539         0.681353      0.258373   \n",
      "174         0.034623           0.793539         0.681353      0.258373   \n",
      "175         0.308194           0.664941         0.646205      0.784689   \n",
      "176         0.308194           0.664941         0.646205      0.784689   \n",
      "177         0.241841           0.615241         0.759406      0.598086   \n",
      "178         0.034623           0.566784         0.798020      0.210526   \n",
      "179         0.033996           0.628080         0.783498      1.000000   \n",
      "180         0.045886           0.535515         0.784983      0.665072   \n",
      "181         0.044805           0.573618         0.782838      0.244019   \n",
      "182         0.051778           0.588113         0.807921      0.502392   \n",
      "183         0.051778           0.588113         0.807921      0.502392   \n",
      "184         0.051778           0.588113         0.807921      0.430622   \n",
      "185         0.051778           0.588113         0.807921      0.339713   \n",
      "\n",
      "    Crablandings_minmax turbidity_kmeans_binning turbidty_domain  \n",
      "0              0.933566                      Low             Low  \n",
      "1              0.114510                      Low          Medium  \n",
      "2              0.925699                      Low             Low  \n",
      "3              0.296329                      Low             Low  \n",
      "4              0.994755                      Low          Medium  \n",
      "5              0.047203                      Low             Low  \n",
      "6              0.119755                      Low             Low  \n",
      "7              0.912587                      Low          Medium  \n",
      "8              0.382867                      Low             Low  \n",
      "9              0.277972                      Low             Low  \n",
      "10             0.372378                      Low          Medium  \n",
      "11             0.166084                      Low             Low  \n",
      "12             0.813811                      Low          Medium  \n",
      "13             0.541958                      Low             Low  \n",
      "14             0.742133                      Low             Low  \n",
      "15             0.419580                      Low             Low  \n",
      "16             0.231643                      Low             Low  \n",
      "17             0.301573                      Low             Low  \n",
      "18             0.638986                      Low             Low  \n",
      "19             0.274476                      Low             Low  \n",
      "20             0.194930                      Low             Low  \n",
      "21             0.025350                      Low             Low  \n",
      "22             0.960664                      Low             Low  \n",
      "23             0.059441                      Low             Low  \n",
      "24             0.026224                      Low             Low  \n",
      "25             0.065559                      Low             Low  \n",
      "26             0.458916                      Low          Medium  \n",
      "27             0.328671                      Low             Low  \n",
      "28             0.288462                      Low             Low  \n",
      "29             0.479895                      Low             Low  \n",
      "..                  ...                      ...             ...  \n",
      "156            0.902972                     High            High  \n",
      "157            0.194056                   Medium            High  \n",
      "158            0.386364                     High            High  \n",
      "159            0.351399                   Medium            High  \n",
      "160            0.072552                   Medium          Medium  \n",
      "161            0.035839                   Medium          Medium  \n",
      "162            0.242133                   Medium          Medium  \n",
      "163            0.198427                      Low          Medium  \n",
      "164            0.926573                      Low          Medium  \n",
      "165            0.000000                      Low             Low  \n",
      "166            0.676573                      Low             Low  \n",
      "167            0.645979                      Low             Low  \n",
      "168            0.859266                      Low             Low  \n",
      "169            0.825175                   Medium            High  \n",
      "170            0.825175                   Medium            High  \n",
      "171            0.899476                      Low          Medium  \n",
      "172            0.899476                      Low          Medium  \n",
      "173            0.900350                      Low             Low  \n",
      "174            0.900350                      Low             Low  \n",
      "175            0.868881                     High            High  \n",
      "176            0.868881                     High            High  \n",
      "177            0.854895                   Medium            High  \n",
      "178            0.838287                      Low             Low  \n",
      "179            0.903846                      Low             Low  \n",
      "180            0.875000                      Low          Medium  \n",
      "181            0.870629                      Low          Medium  \n",
      "182            0.882867                      Low          Medium  \n",
      "183            0.882867                      Low          Medium  \n",
      "184            0.853147                      Low          Medium  \n",
      "185            0.911713                      Low          Medium  \n",
      "\n",
      "[186 rows x 73 columns]>\n"
     ]
    }
   ],
   "source": [
    "print(df.describe)"
   ]
  },
  {
   "cell_type": "code",
   "execution_count": 23,
   "metadata": {},
   "outputs": [
    {
     "name": "stdout",
     "output_type": "stream",
     "text": [
      "0      2009\n",
      "1      2009\n",
      "2      2009\n",
      "3      2009\n",
      "4      2009\n",
      "5      2009\n",
      "6      2009\n",
      "7      2009\n",
      "8      2009\n",
      "9      2009\n",
      "10     2009\n",
      "11     2009\n",
      "12     2009\n",
      "13     2009\n",
      "14     2009\n",
      "15     2009\n",
      "16     2009\n",
      "17     2009\n",
      "18     2009\n",
      "19     2009\n",
      "20     2009\n",
      "21     2009\n",
      "22     2009\n",
      "23     2009\n",
      "24     2009\n",
      "25     2009\n",
      "26     2009\n",
      "27     2009\n",
      "28     2009\n",
      "29     2009\n",
      "       ... \n",
      "156    2015\n",
      "157    2015\n",
      "158    2015\n",
      "159    2015\n",
      "160    2015\n",
      "161    2015\n",
      "162    2015\n",
      "163    2015\n",
      "164    2015\n",
      "165    2015\n",
      "166    2015\n",
      "167    2015\n",
      "168    2016\n",
      "169    2016\n",
      "170    2016\n",
      "171    2016\n",
      "172    2016\n",
      "173    2016\n",
      "174    2016\n",
      "175    2016\n",
      "176    2016\n",
      "177    2016\n",
      "178    2016\n",
      "179    2016\n",
      "180    2016\n",
      "181    2016\n",
      "182    2016\n",
      "183    2016\n",
      "184    2016\n",
      "185    2016\n",
      "Name: Year, Length: 186, dtype: int64\n"
     ]
    }
   ],
   "source": [
    "## adding column year to show the number of attack per year\n",
    "\n",
    "df_attack = df.loc[:,:]\n",
    "# df_attack.iscopy= True\n",
    "df_attack['Year'] = df_attack['Date'].map(lambda x: x.year)\n",
    "print(df_attack['Year'])"
   ]
  },
  {
   "cell_type": "code",
   "execution_count": 24,
   "metadata": {},
   "outputs": [
    {
     "name": "stdout",
     "output_type": "stream",
     "text": [
      "   Unnamed: 0  X.2  X.1  X  Id       Date  ID  TurtleExactCountSC  \\\n",
      "0           1    1    1  1   4 2009-05-04  25                 0.0   \n",
      "1           2    2    2  2   5 2009-05-05  33                 0.0   \n",
      "2           3    3    3  3   7 2009-05-07  49                 1.0   \n",
      "3           4    4    4  4   8 2009-05-08  57                 0.0   \n",
      "4           5    5    5  5  11 2009-05-11  81                 2.0   \n",
      "\n",
      "  turtleexactdiscretizeSC  TurtleExactCountNC  ...   WindSpeed_minmax  \\\n",
      "0                     Low                 0.0  ...           0.333333   \n",
      "1                     Low                 0.0  ...           0.202614   \n",
      "2                     Low                 0.0  ...           0.405229   \n",
      "3                     Low                 0.0  ...           0.267974   \n",
      "4                     Low                 0.0  ...           0.385621   \n",
      "\n",
      "  Salinity_minmax  Turbidity_minmax Dissolved02_minmax WaterTemp_minmax  \\\n",
      "0        0.636021          0.032566           0.741354         0.576733   \n",
      "1        0.552312          0.037936           0.675088         0.477558   \n",
      "2        0.496314          0.027615           0.703665         0.498185   \n",
      "3        0.579198          0.020119           0.788776         0.575743   \n",
      "4        0.597837          0.066004           0.822323         0.627393   \n",
      "\n",
      "  Turtle_minmax Crablandings_minmax turbidity_kmeans_binning turbidty_domain  \\\n",
      "0      0.000000            0.933566                      Low             Low   \n",
      "1      0.000000            0.114510                      Low          Medium   \n",
      "2      0.000000            0.925699                      Low             Low   \n",
      "3      0.000000            0.296329                      Low             Low   \n",
      "4      0.004785            0.994755                      Low          Medium   \n",
      "\n",
      "   Year  \n",
      "0  2009  \n",
      "1  2009  \n",
      "2  2009  \n",
      "3  2009  \n",
      "4  2009  \n",
      "\n",
      "[5 rows x 74 columns]\n"
     ]
    }
   ],
   "source": [
    "print(df_attack.head())"
   ]
  },
  {
   "cell_type": "markdown",
   "metadata": {},
   "source": [
    "##### Showing the no of attack happen in particular year"
   ]
  },
  {
   "cell_type": "code",
   "execution_count": 25,
   "metadata": {},
   "outputs": [
    {
     "name": "stdout",
     "output_type": "stream",
     "text": [
      "Attack    No   Yes\n",
      "Year              \n",
      "2009    47.0   2.0\n",
      "2010    50.0   6.0\n",
      "2011    17.0   8.0\n",
      "2012     NaN   9.0\n",
      "2013     NaN   6.0\n",
      "2014     NaN   8.0\n",
      "2015     NaN  15.0\n",
      "2016     NaN  18.0\n"
     ]
    }
   ],
   "source": [
    "atk_year = df_attack.groupby(['Year','Attack'])\n",
    "print(atk_year.size().unstack())"
   ]
  },
  {
   "cell_type": "code",
   "execution_count": 27,
   "metadata": {},
   "outputs": [
    {
     "data": {
      "image/png": "[encoded data removed]",
      "text/plain": [
       "<matplotlib.figure.Figure at 0x19bed0a8f60>"
      ]
     },
     "metadata": {},
     "output_type": "display_data"
    }
   ],
   "source": [
    "# graph of turtle count  in SC\n",
    "plt.plot(df['TurtleExactCountSC'],color='red',label='Turtle in SC')\n",
    "plt.title('Turtle in SC')\n",
    "# plt.xlabels('')\n",
    "plt.show()\n"
   ]
  },
  {
   "cell_type": "code",
   "execution_count": 29,
   "metadata": {},
   "outputs": [
    {
     "data": {
      "image/png": "[encoded data removed]",
      "text/plain": [
       "<matplotlib.figure.Figure at 0x19becd27748>"
      ]
     },
     "metadata": {},
     "output_type": "display_data"
    }
   ],
   "source": [
    "#graoh of turtle count in NC\n",
    "plt.plot(df['TurtleExactCountNC'],color='green',label='Turtle in NC')\n",
    "plt.title('Turtle in NC')\n",
    "# plt.xlabels('')\n",
    "plt.show()\n"
   ]
  },
  {
   "cell_type": "code",
   "execution_count": 47,
   "metadata": {},
   "outputs": [
    {
     "data": {
      "image/png": "[encoded data removed]",
      "text/plain": [
       "<matplotlib.figure.Figure at 0x19bee318be0>"
      ]
     },
     "metadata": {},
     "output_type": "display_data"
    }
   ],
   "source": [
    "ser_year = df['Year'].dropna(axis=0,how='any',inplace=False)\n",
    "\n",
    "plt.plot()\n",
    "_ = plt.hist(ser_year,bins=8,histtype='bar')\n",
    "_ = plt.xlabel('Years')\n",
    "_ = plt.ylabel('Counts')\n",
    "_ = plt.title('Attack happen in Year')\n",
    "plt.show()"
   ]
  },
  {
   "cell_type": "markdown",
   "metadata": {},
   "source": [
    "#### Spliting the data in test and train dataset "
   ]
  },
  {
   "cell_type": "code",
   "execution_count": 33,
   "metadata": {},
   "outputs": [
    {
     "name": "stdout",
     "output_type": "stream",
     "text": [
      "(148, 74)\n",
      "(38, 74)\n"
     ]
    }
   ],
   "source": [
    "from sklearn.model_selection import train_test_split\n",
    "\n",
    "train_set,test_set = train_test_split(df,test_size=0.2,random_state=42)\n",
    "\n",
    "print(train_set.shape)\n",
    "print(test_set.shape)"
   ]
  },
  {
   "cell_type": "code",
   "execution_count": 35,
   "metadata": {
    "collapsed": true
   },
   "outputs": [],
   "source": [
    "##filling the missing value in columns \n",
    "\n",
    "col = ['TurtleExactCountSC', 'TurtleExactCountNC']\n",
    "df_atk = df.loc[:,:]\n",
    "df_atk['TurtleExactCountSC'].fillna(method='bfill',inplace=True)\n",
    "df_atk['TurtleExactCountNC'].fillna(0,inplace=True)\n",
    "\n",
    "# chosing the X and Y coordinates \n"
   ]
  },
  {
   "cell_type": "markdown",
   "metadata": {},
   "source": [
    "#### Preparing for SVM model "
   ]
  },
  {
   "cell_type": "code",
   "execution_count": 40,
   "metadata": {
    "collapsed": true
   },
   "outputs": [],
   "source": [
    "#### importing the pipeline \n",
    "from sklearn.preprocessing import StandardScaler\n",
    "from sklearn.pipeline import Pipeline\n",
    "from sklearn.svm import LinearSVC\n",
    "\n",
    "X = df_atk.loc[:,col]\n",
    "\n",
    "Booldict = {'Yes':1,'No':0}\n",
    "df['Target'] = df['Attack'].map(dict(Yes= 1,No=0))\n",
    "\n",
    "y = df['Target']"
   ]
  },
  {
   "cell_type": "markdown",
   "metadata": {},
   "source": [
    "#### Training the model for Attack Yes or No on Turtle counr in SC and NC"
   ]
  },
  {
   "cell_type": "code",
   "execution_count": 41,
   "metadata": {},
   "outputs": [
    {
     "data": {
      "text/plain": [
       "Pipeline(steps=(('scaler', StandardScaler(copy=True, with_mean=True, with_std=True)), ('linear_svc', LinearSVC(C=1, class_weight=None, dual=True, fit_intercept=True,\n",
       "     intercept_scaling=1, loss='hinge', max_iter=1000, multi_class='ovr',\n",
       "     penalty='l2', random_state=None, tol=0.0001, verbose=0))))"
      ]
     },
     "execution_count": 41,
     "metadata": {},
     "output_type": "execute_result"
    }
   ],
   "source": [
    "svm_clf = Pipeline(((\"scaler\", StandardScaler()),(\"linear_svc\", LinearSVC(C=1, loss=\"hinge\")),))\n",
    "svm_clf.fit(X, y)"
   ]
  },
  {
   "cell_type": "markdown",
   "metadata": {},
   "source": [
    "#### checking the prediction now "
   ]
  },
  {
   "cell_type": "code",
   "execution_count": 42,
   "metadata": {},
   "outputs": [
    {
     "name": "stdout",
     "output_type": "stream",
     "text": [
      "[1]\n"
     ]
    }
   ],
   "source": [
    "# Passing the turtle count in SC as 105 and in NC 0\n",
    "# 1 is for atack will happen\n",
    "print(svm_clf.predict([[105, 0]]))\n"
   ]
  },
  {
   "cell_type": "code",
   "execution_count": 43,
   "metadata": {},
   "outputs": [
    {
     "name": "stdout",
     "output_type": "stream",
     "text": [
      "[0]\n"
     ]
    }
   ],
   "source": [
    "####  passing the count in SC 25 and NC 10\n",
    "# 0 is for attack will not happen \n",
    "print(svm_clf.predict([[25, 10]]))\n"
   ]
  },
  {
   "cell_type": "markdown",
   "metadata": {},
   "source": [
    "#### running the decision with same data set X and Y variables"
   ]
  },
  {
   "cell_type": "code",
   "execution_count": 44,
   "metadata": {},
   "outputs": [
    {
     "name": "stdout",
     "output_type": "stream",
     "text": [
      "DecisionTreeClassifier(class_weight=None, criterion='gini', max_depth=2,\n",
      "            max_features=None, max_leaf_nodes=None,\n",
      "            min_impurity_split=1e-07, min_samples_leaf=1,\n",
      "            min_samples_split=2, min_weight_fraction_leaf=0.0,\n",
      "            presort=False, random_state=None, splitter='best')\n"
     ]
    }
   ],
   "source": [
    "from sklearn.tree import DecisionTreeClassifier\n",
    "from sklearn.tree import export_graphviz\n",
    "\n",
    "tree_clf = DecisionTreeClassifier(max_depth=2)\n",
    "print(tree_clf.fit(X, y))\n",
    "\n",
    "###saving the output into folder \n",
    "export_graphviz(tree_clf,feature_names=['Turtle in SC','Turtle in NC'],\n",
    "                out_file=\"F:/Summer 2/SAproject/turtle_tree.dot\",class_names='Attack',rounded=True,filled=True)"
   ]
  },
  {
   "cell_type": "markdown",
   "metadata": {},
   "source": [
    "#### checking the prediction now "
   ]
  },
  {
   "cell_type": "code",
   "execution_count": 46,
   "metadata": {},
   "outputs": [
    {
     "name": "stdout",
     "output_type": "stream",
     "text": [
      "[1]\n",
      "[0]\n"
     ]
    }
   ],
   "source": [
    "### 1 is for attack and 0 is for not attack \n",
    "\n",
    "print(tree_clf.predict([[105, 0]]))\n",
    "print(tree_clf.predict([[25,10]]))"
   ]
  },
  {
   "cell_type": "code",
   "execution_count": null,
   "metadata": {
    "collapsed": true
   },
   "outputs": [],
   "source": []
  },
  {
   "cell_type": "code",
   "execution_count": null,
   "metadata": {
    "collapsed": true
   },
   "outputs": [],
   "source": []
  }
 ],
 "metadata": {
  "kernelspec": {
   "display_name": "Python 3",
   "language": "python",
   "name": "python3"
  },
  "language_info": {
   "codemirror_mode": {
    "name": "ipython",
    "version": 3
   },
   "file_extension": ".py",
   "mimetype": "text/x-python",
   "name": "python",
   "nbconvert_exporter": "python",
   "pygments_lexer": "ipython3",
   "version": "3.6.1"
  }
 },
 "nbformat": 4,
 "nbformat_minor": 2
}
